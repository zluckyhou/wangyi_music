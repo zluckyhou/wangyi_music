{
 "cells": [
  {
   "cell_type": "markdown",
   "metadata": {},
   "source": [
    "# 网易云音乐数据获取\n",
    "\n",
    "调用[网易云音乐AP](https://binaryify.github.io/NeteaseCloudMusicApi/#/)来获取网易云音乐的一些信息"
   ]
  },
  {
   "cell_type": "code",
   "execution_count": 57,
   "metadata": {},
   "outputs": [],
   "source": [
    "import os\n",
    "from lxml import etree\n",
    "import lxml.html\n",
    "from selenium import webdriver\n",
    "from user_agent import generate_user_agent\n",
    "\n",
    "import requests\n",
    "from tqdm import tqdm\n",
    "import time\n",
    "import json\n",
    "from collections import Counter\n",
    "import pandas as pd"
   ]
  },
  {
   "cell_type": "markdown",
   "metadata": {},
   "source": [
    "# 获取歌手的top50歌曲"
   ]
  },
  {
   "cell_type": "code",
   "execution_count": 30,
   "metadata": {},
   "outputs": [],
   "source": [
    "class Artist(object):\n",
    "    \n",
    "    def __init__(self,artist_id):\n",
    "        self.artist_id = artist_id\n",
    "    \n",
    "    # 获取该歌手的top50歌曲的id、名字、歌手\n",
    "    def get_top50_songs(self):\n",
    "        artist_id = self.artist_id\n",
    "        url = f'http://localhost:3000/artist/top/song?id={artist_id}'\n",
    "        r = requests.get(url)\n",
    "        songs = r.json()['songs']\n",
    "        song_ids = [i['id'] for i in songs]\n",
    "        song_names = [i['name'] for i in songs]\n",
    "        song_artists = [i['ar'][0]['name'] for i in songs]\n",
    "        return list(zip(song_ids,song_names,song_artists))\n",
    "    \n",
    "    # 获取某首歌的歌词\n",
    "    def get_lyric(self,song_id):\n",
    "        lyric_url = f'http://localhost:3000/lyric?id={song_id}'\n",
    "        r = requests.get(lyric_url)\n",
    "        lyric = r.json()['lrc']['lyric']\n",
    "#         print(lyric)\n",
    "        return lyric\n",
    "    \n",
    "    # 获取歌曲名字和歌手名字\n",
    "    def get_music_detail(self,song_id):\n",
    "        song_detail = f'http://localhost:3000/song/detail?ids={song_id}'\n",
    "        r = requests.get(song_detail)\n",
    "        music_name = r.json()['songs'][0]['name']\n",
    "        artist = r.json()['songs'][0]['ar'][0]['name']\n",
    "        return music_name,artist\n",
    "    \n",
    "    # 获取音乐url，并下载为mp3文件\n",
    "    def get_music_url(self,song_id):\n",
    "        music_url = f'http://localhost:3000/song/url?id={song_id}'\n",
    "        music_name,artist = self.get_music_detail(song_id)\n",
    "        r = requests.get(music_url)\n",
    "        music = r.json()['data'][0]['url']\n",
    "        content = requests.get(music).content\n",
    "        with open(f'{artist}_{music_name}.mp3','wb') as f:\n",
    "            f.write(content)\n",
    "        return music\n",
    "    \n",
    "    \n",
    "    # 获取该歌手top50歌曲的所有歌词\n",
    "    def get_lyrics(self):\n",
    "        lyrics = {}\n",
    "        songs = self.get_top50_songs()\n",
    "        song_ids = [i[0] for i in songs]\n",
    "        for song_id in song_ids:\n",
    "            lyrics[song_id] = self.get_lyric(song_id)\n",
    "        return lyrics"
   ]
  },
  {
   "cell_type": "markdown",
   "metadata": {},
   "source": [
    "## 李荣浩的歌曲"
   ]
  },
  {
   "cell_type": "code",
   "execution_count": 3,
   "metadata": {},
   "outputs": [],
   "source": [
    "ronghao = Artist(4292)"
   ]
  },
  {
   "cell_type": "code",
   "execution_count": 4,
   "metadata": {},
   "outputs": [],
   "source": [
    "# 获取李荣浩的top50歌曲歌词\n",
    "lyrics_lrh = ronghao.get_lyrics()"
   ]
  },
  {
   "cell_type": "code",
   "execution_count": 5,
   "metadata": {},
   "outputs": [
    {
     "data": {
      "text/plain": [
       "dict_keys([1407551413, 1293886117, 133998, 407450223, 518686034, 31654343, 1415566662, 1318234987, 1318235595, 1418319771, 29710981, 1410490187, 27678655, 27731176, 31134193, 29764562, 428375722, 29764563, 1308818966, 31877243, 506092654, 407450218, 31134170, 570334069, 27731174, 31134197, 27731172, 502242110, 27731177, 511920347, 29764561, 1305547844, 29764564, 862130427, 519250024, 486323960, 407459147, 407459148, 515143802, 1309866644, 29764565, 400074326, 1318234982, 27731179, 479223381, 407459145, 493631465, 29764568, 134000, 1318234981])"
      ]
     },
     "execution_count": 5,
     "metadata": {},
     "output_type": "execute_result"
    }
   ],
   "source": [
    "lyrics_lrh.keys()"
   ]
  },
  {
   "cell_type": "code",
   "execution_count": 6,
   "metadata": {},
   "outputs": [
    {
     "data": {
      "text/plain": [
       "('年少有为', '李荣浩')"
      ]
     },
     "execution_count": 6,
     "metadata": {},
     "output_type": "execute_result"
    }
   ],
   "source": [
    "# 获取李荣浩某首歌的歌名\n",
    "ronghao.get_music_detail(1293886117)"
   ]
  },
  {
   "cell_type": "code",
   "execution_count": 146,
   "metadata": {},
   "outputs": [
    {
     "data": {
      "text/plain": [
       "'http://m8.music.126.net/20200206211754/af9f94e92e9d9f6beaed4cd31abcad24/ymusic/030b/060b/035b/4a0c8e3d1c1afd37d18e4165494e9ef2.mp3'"
      ]
     },
     "execution_count": 146,
     "metadata": {},
     "output_type": "execute_result"
    }
   ],
   "source": [
    "# 获取年少有为的音乐URL，并下载音乐\n",
    "ronghao.get_music_url(1293886117)"
   ]
  },
  {
   "cell_type": "markdown",
   "metadata": {},
   "source": [
    "# 获取歌手榜上歌手的歌曲列表"
   ]
  },
  {
   "cell_type": "code",
   "execution_count": 64,
   "metadata": {},
   "outputs": [],
   "source": [
    "def get_top_artist_musics():\n",
    "    # 获取歌手榜上歌手的top50歌曲列表\n",
    "    url = 'http://localhost:3000/toplist/artist'\n",
    "    artists = requests.get(url).json()['list']['artists']\n",
    "\n",
    "    # 对歌手榜中的歌手，获取每个歌手的top50歌曲\n",
    "    songs_list = []\n",
    "    for ar in [i.get('id') for i in artists]:\n",
    "        artist = Artist(ar)\n",
    "        songs = artist.get_top50_songs()\n",
    "    #     song_names = [i[1] for i in songs]\n",
    "        songs_list.extend(songs)\n",
    "\n",
    "    df_songs = pd.DataFrame(songs_list)\n",
    "    df_songs.columns = ['id','name','artist']\n",
    "    return df_songs\n",
    "\n"
   ]
  },
  {
   "cell_type": "code",
   "execution_count": 66,
   "metadata": {},
   "outputs": [],
   "source": [
    "df_songs = get_top_artist_musics()"
   ]
  },
  {
   "cell_type": "code",
   "execution_count": 67,
   "metadata": {},
   "outputs": [
    {
     "data": {
      "text/html": [
       "<div>\n",
       "<style scoped>\n",
       "    .dataframe tbody tr th:only-of-type {\n",
       "        vertical-align: middle;\n",
       "    }\n",
       "\n",
       "    .dataframe tbody tr th {\n",
       "        vertical-align: top;\n",
       "    }\n",
       "\n",
       "    .dataframe thead th {\n",
       "        text-align: right;\n",
       "    }\n",
       "</style>\n",
       "<table border=\"1\" class=\"dataframe\">\n",
       "  <thead>\n",
       "    <tr style=\"text-align: right;\">\n",
       "      <th></th>\n",
       "      <th>id</th>\n",
       "      <th>name</th>\n",
       "      <th>artist</th>\n",
       "    </tr>\n",
       "  </thead>\n",
       "  <tbody>\n",
       "    <tr>\n",
       "      <th>0</th>\n",
       "      <td>1346104327</td>\n",
       "      <td>多想在平庸的生活拥抱你</td>\n",
       "      <td>隔壁老樊</td>\n",
       "    </tr>\n",
       "    <tr>\n",
       "      <th>1</th>\n",
       "      <td>1383927243</td>\n",
       "      <td>这一生关于你的风景</td>\n",
       "      <td>隔壁老樊</td>\n",
       "    </tr>\n",
       "    <tr>\n",
       "      <th>2</th>\n",
       "      <td>1336856777</td>\n",
       "      <td>我曾</td>\n",
       "      <td>隔壁老樊</td>\n",
       "    </tr>\n",
       "    <tr>\n",
       "      <th>3</th>\n",
       "      <td>1365221826</td>\n",
       "      <td>四块五</td>\n",
       "      <td>隔壁老樊</td>\n",
       "    </tr>\n",
       "    <tr>\n",
       "      <th>4</th>\n",
       "      <td>1405319676</td>\n",
       "      <td>我的姑娘 她在远方</td>\n",
       "      <td>隔壁老樊</td>\n",
       "    </tr>\n",
       "  </tbody>\n",
       "</table>\n",
       "</div>"
      ],
      "text/plain": [
       "           id         name artist\n",
       "0  1346104327  多想在平庸的生活拥抱你   隔壁老樊\n",
       "1  1383927243    这一生关于你的风景   隔壁老樊\n",
       "2  1336856777           我曾   隔壁老樊\n",
       "3  1365221826          四块五   隔壁老樊\n",
       "4  1405319676    我的姑娘 她在远方   隔壁老樊"
      ]
     },
     "execution_count": 67,
     "metadata": {},
     "output_type": "execute_result"
    }
   ],
   "source": [
    "df_songs.head()"
   ]
  },
  {
   "cell_type": "markdown",
   "metadata": {},
   "source": [
    "# 歌手榜中歌手的歌曲名字中的第一个字分析"
   ]
  },
  {
   "cell_type": "code",
   "execution_count": 68,
   "metadata": {},
   "outputs": [
    {
     "data": {
      "text/plain": [
       "[('我', 162),\n",
       " ('不', 88),\n",
       " ('你', 86),\n",
       " ('一', 73),\n",
       " ('爱', 49),\n",
       " ('小', 43),\n",
       " ('无', 42),\n",
       " ('S', 36),\n",
       " ('C', 35),\n",
       " ('I', 34)]"
      ]
     },
     "execution_count": 68,
     "metadata": {},
     "output_type": "execute_result"
    }
   ],
   "source": [
    "first_words = [i[0] for i in df_songs['name']]\n",
    "\n",
    "Counter(first_words).most_common(10)"
   ]
  },
  {
   "cell_type": "markdown",
   "metadata": {},
   "source": [
    "原来热门歌手在为他们的歌曲起名字时，喜欢以“我”、“不”、“你”作为开头\n",
    "\n",
    "例如，以“我”开头的歌取有："
   ]
  },
  {
   "cell_type": "code",
   "execution_count": 70,
   "metadata": {},
   "outputs": [
    {
     "data": {
      "text/html": [
       "<div>\n",
       "<style scoped>\n",
       "    .dataframe tbody tr th:only-of-type {\n",
       "        vertical-align: middle;\n",
       "    }\n",
       "\n",
       "    .dataframe tbody tr th {\n",
       "        vertical-align: top;\n",
       "    }\n",
       "\n",
       "    .dataframe thead th {\n",
       "        text-align: right;\n",
       "    }\n",
       "</style>\n",
       "<table border=\"1\" class=\"dataframe\">\n",
       "  <thead>\n",
       "    <tr style=\"text-align: right;\">\n",
       "      <th></th>\n",
       "      <th>id</th>\n",
       "      <th>name</th>\n",
       "      <th>artist</th>\n",
       "    </tr>\n",
       "  </thead>\n",
       "  <tbody>\n",
       "    <tr>\n",
       "      <th>2</th>\n",
       "      <td>1336856777</td>\n",
       "      <td>我曾</td>\n",
       "      <td>隔壁老樊</td>\n",
       "    </tr>\n",
       "    <tr>\n",
       "      <th>4</th>\n",
       "      <td>1405319676</td>\n",
       "      <td>我的姑娘 她在远方</td>\n",
       "      <td>隔壁老樊</td>\n",
       "    </tr>\n",
       "    <tr>\n",
       "      <th>26</th>\n",
       "      <td>549059804</td>\n",
       "      <td>我曾demo</td>\n",
       "      <td>隔壁老樊</td>\n",
       "    </tr>\n",
       "    <tr>\n",
       "      <th>31</th>\n",
       "      <td>1394169337</td>\n",
       "      <td>我和我的祖国</td>\n",
       "      <td>隔壁老樊</td>\n",
       "    </tr>\n",
       "    <tr>\n",
       "      <th>34</th>\n",
       "      <td>1327199767</td>\n",
       "      <td>我曾Demo</td>\n",
       "      <td>隔壁老樊</td>\n",
       "    </tr>\n",
       "    <tr>\n",
       "      <th>39</th>\n",
       "      <td>1336856778</td>\n",
       "      <td>我曾（伴奏）</td>\n",
       "      <td>隔壁老樊</td>\n",
       "    </tr>\n",
       "    <tr>\n",
       "      <th>47</th>\n",
       "      <td>1405318715</td>\n",
       "      <td>我的姑娘 她在远方（伴奏）</td>\n",
       "      <td>隔壁老樊</td>\n",
       "    </tr>\n",
       "    <tr>\n",
       "      <th>70</th>\n",
       "      <td>506092654</td>\n",
       "      <td>我看着你的时候</td>\n",
       "      <td>李荣浩</td>\n",
       "    </tr>\n",
       "    <tr>\n",
       "      <th>92</th>\n",
       "      <td>1318234982</td>\n",
       "      <td>我知道是你</td>\n",
       "      <td>李荣浩</td>\n",
       "    </tr>\n",
       "    <tr>\n",
       "      <th>109</th>\n",
       "      <td>233974</td>\n",
       "      <td>我的秘密</td>\n",
       "      <td>G.E.M.邓紫棋</td>\n",
       "    </tr>\n",
       "    <tr>\n",
       "      <th>123</th>\n",
       "      <td>1391453675</td>\n",
       "      <td>我说了算</td>\n",
       "      <td>G.E.M.邓紫棋</td>\n",
       "    </tr>\n",
       "    <tr>\n",
       "      <th>151</th>\n",
       "      <td>417859631</td>\n",
       "      <td>我好像在哪见过你</td>\n",
       "      <td>薛之谦</td>\n",
       "    </tr>\n",
       "    <tr>\n",
       "      <th>181</th>\n",
       "      <td>474567044</td>\n",
       "      <td>我害怕</td>\n",
       "      <td>薛之谦</td>\n",
       "    </tr>\n",
       "    <tr>\n",
       "      <th>189</th>\n",
       "      <td>169137</td>\n",
       "      <td>我知道你都知道</td>\n",
       "      <td>薛之谦</td>\n",
       "    </tr>\n",
       "    <tr>\n",
       "      <th>224</th>\n",
       "      <td>1307411242</td>\n",
       "      <td>我说我当不了县长</td>\n",
       "      <td>花粥</td>\n",
       "    </tr>\n",
       "    <tr>\n",
       "      <th>227</th>\n",
       "      <td>1319225007</td>\n",
       "      <td>我抬头一看满街都是单身的狗</td>\n",
       "      <td>花粥</td>\n",
       "    </tr>\n",
       "    <tr>\n",
       "      <th>242</th>\n",
       "      <td>247165</td>\n",
       "      <td>我们总是在寻找</td>\n",
       "      <td>花粥</td>\n",
       "    </tr>\n",
       "    <tr>\n",
       "      <th>255</th>\n",
       "      <td>108493</td>\n",
       "      <td>我还想她</td>\n",
       "      <td>林俊杰</td>\n",
       "    </tr>\n",
       "    <tr>\n",
       "      <th>291</th>\n",
       "      <td>108265</td>\n",
       "      <td>我很想爱他</td>\n",
       "      <td>林俊杰</td>\n",
       "    </tr>\n",
       "    <tr>\n",
       "      <th>293</th>\n",
       "      <td>1369998604</td>\n",
       "      <td>我们很好</td>\n",
       "      <td>林俊杰</td>\n",
       "    </tr>\n",
       "  </tbody>\n",
       "</table>\n",
       "</div>"
      ],
      "text/plain": [
       "             id           name     artist\n",
       "2    1336856777             我曾       隔壁老樊\n",
       "4    1405319676      我的姑娘 她在远方       隔壁老樊\n",
       "26    549059804         我曾demo       隔壁老樊\n",
       "31   1394169337         我和我的祖国       隔壁老樊\n",
       "34   1327199767         我曾Demo       隔壁老樊\n",
       "39   1336856778         我曾（伴奏）       隔壁老樊\n",
       "47   1405318715  我的姑娘 她在远方（伴奏）       隔壁老樊\n",
       "70    506092654        我看着你的时候        李荣浩\n",
       "92   1318234982          我知道是你        李荣浩\n",
       "109      233974           我的秘密  G.E.M.邓紫棋\n",
       "123  1391453675           我说了算  G.E.M.邓紫棋\n",
       "151   417859631       我好像在哪见过你        薛之谦\n",
       "181   474567044            我害怕        薛之谦\n",
       "189      169137        我知道你都知道        薛之谦\n",
       "224  1307411242       我说我当不了县长         花粥\n",
       "227  1319225007  我抬头一看满街都是单身的狗         花粥\n",
       "242      247165        我们总是在寻找         花粥\n",
       "255      108493           我还想她        林俊杰\n",
       "291      108265          我很想爱他        林俊杰\n",
       "293  1369998604           我们很好        林俊杰"
      ]
     },
     "execution_count": 70,
     "metadata": {},
     "output_type": "execute_result"
    }
   ],
   "source": [
    "df_songs[df_songs['name'].apply(lambda x:x[0]==\"我\")].head(20)"
   ]
  },
  {
   "cell_type": "code",
   "execution_count": 72,
   "metadata": {},
   "outputs": [],
   "source": [
    "mygirl = Artist(12429072).get_music_url(1405319676)"
   ]
  },
  {
   "cell_type": "markdown",
   "metadata": {},
   "source": [
    "让我们一起听一下隔壁老樊的[我的姑娘 她在远方](http://m8.music.126.net/20200206225113/da1f24d78a7487687b701cf0fbce99d5/ymusic/5259/005e/0e5c/e3d8f29ed874fb50d44c96df59f0c6b2.mp3)"
   ]
  },
  {
   "cell_type": "code",
   "execution_count": null,
   "metadata": {},
   "outputs": [],
   "source": []
  }
 ],
 "metadata": {
  "kernelspec": {
   "display_name": "Python 3",
   "language": "python",
   "name": "python3"
  },
  "language_info": {
   "codemirror_mode": {
    "name": "ipython",
    "version": 3
   },
   "file_extension": ".py",
   "mimetype": "text/x-python",
   "name": "python",
   "nbconvert_exporter": "python",
   "pygments_lexer": "ipython3",
   "version": "3.7.3"
  }
 },
 "nbformat": 4,
 "nbformat_minor": 4
}
