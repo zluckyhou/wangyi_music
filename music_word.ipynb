{
 "cells": [
  {
   "cell_type": "markdown",
   "metadata": {},
   "source": [
    "# 网易云音乐数据获取\n",
    "\n",
    "调用[网易云音乐AP](https://binaryify.github.io/NeteaseCloudMusicApi/#/)来获取网易云音乐的一些信息"
   ]
  },
  {
   "cell_type": "code",
   "execution_count": 8,
   "metadata": {},
   "outputs": [],
   "source": [
    "import os\n",
    "from lxml import etree\n",
    "import lxml.html\n",
    "from selenium import webdriver\n",
    "from user_agent import generate_user_agent\n",
    "\n",
    "import requests\n",
    "from tqdm import tqdm\n",
    "import time\n",
    "import json"
   ]
  },
  {
   "cell_type": "markdown",
   "metadata": {},
   "source": [
    "# 获取歌手的top50歌曲"
   ]
  },
  {
   "cell_type": "code",
   "execution_count": 143,
   "metadata": {},
   "outputs": [],
   "source": [
    "class Artist(object):\n",
    "    \n",
    "    def __init__(self,artist_id):\n",
    "        self.artist_id = artist_id\n",
    "    \n",
    "    # 获取该歌手的top50歌曲\n",
    "    def get_top50_songs(self):\n",
    "        artist_id = self.artist_id\n",
    "        url = f'http://localhost:3000/artist/top/song?id={artist_id}'\n",
    "        r = requests.get(url)\n",
    "        songs = r.json()['songs']\n",
    "        song_ids = [i['id'] for i in songs]\n",
    "        return song_ids\n",
    "    \n",
    "    # 获取某首歌的歌词\n",
    "    def get_lyric(self,song_id):\n",
    "        lyric_url = f'http://localhost:3000/lyric?id={song_id}'\n",
    "        r = requests.get(lyric_url)\n",
    "        lyric = r.json()['lrc']['lyric']\n",
    "#         print(lyric)\n",
    "        return lyric\n",
    "    \n",
    "    # 获取歌曲名字和歌手名字\n",
    "    def get_music_detail(self,song_id):\n",
    "        song_detail = f'http://localhost:3000/song/detail?ids={song_id}'\n",
    "        r = requests.get(song_detail)\n",
    "        music_name = r.json()['songs'][0]['name']\n",
    "        artist = r.json()['songs'][0]['ar'][0]['name']\n",
    "        return music_name,artist\n",
    "    \n",
    "    # 获取音乐url，并下载为mp3文件\n",
    "    def get_music_url(self,song_id):\n",
    "        music_url = f'http://localhost:3000/song/url?id={song_id}'\n",
    "        music_name,artist = self.get_music_detail(song_id)\n",
    "        r = requests.get(music_url)\n",
    "        music = r.json()['data'][0]['url']\n",
    "        content = requests.get(music).content\n",
    "        with open(f'{artist}_{music_name}.mp3','wb') as f:\n",
    "            f.write(content)\n",
    "        return music\n",
    "    \n",
    "    \n",
    "    # 获取该歌手top50歌曲的所有歌词\n",
    "    def get_lyrics(self):\n",
    "        lyrics = {}\n",
    "        song_ids = self.get_top50_songs()\n",
    "        for song_id in song_ids:\n",
    "            lyrics[song_id] = self.get_lyric(song_id)\n",
    "        return lyrics"
   ]
  },
  {
   "cell_type": "markdown",
   "metadata": {},
   "source": [
    "## 李荣浩"
   ]
  },
  {
   "cell_type": "code",
   "execution_count": 144,
   "metadata": {},
   "outputs": [],
   "source": [
    "ronghao = Artist(4292)"
   ]
  },
  {
   "cell_type": "code",
   "execution_count": 121,
   "metadata": {},
   "outputs": [],
   "source": [
    "# 获取李荣浩的top50歌曲歌词\n",
    "lyrics_lrh = ronghao.get_lyrics()"
   ]
  },
  {
   "cell_type": "code",
   "execution_count": 122,
   "metadata": {},
   "outputs": [
    {
     "data": {
      "text/plain": [
       "dict_keys([1407551413, 1293886117, 133998, 407450223, 518686034, 31654343, 1415566662, 1318234987, 1318235595, 1418319771, 29710981, 1410490187, 27678655, 27731176, 31134193, 29764562, 428375722, 29764563, 1308818966, 31877243, 506092654, 407450218, 31134170, 570334069, 27731174, 31134197, 27731172, 502242110, 27731177, 511920347, 29764561, 1305547844, 29764564, 862130427, 519250024, 486323960, 407459147, 407459148, 515143802, 1309866644, 29764565, 400074326, 1318234982, 27731179, 479223381, 407459145, 493631465, 29764568, 134000, 1318234981])"
      ]
     },
     "execution_count": 122,
     "metadata": {},
     "output_type": "execute_result"
    }
   ],
   "source": [
    "lyrics_lrh.keys()"
   ]
  },
  {
   "cell_type": "code",
   "execution_count": 145,
   "metadata": {},
   "outputs": [
    {
     "data": {
      "text/plain": [
       "('年少有为', '李荣浩')"
      ]
     },
     "execution_count": 145,
     "metadata": {},
     "output_type": "execute_result"
    }
   ],
   "source": [
    "# 获取李荣浩某首歌的歌名\n",
    "ronghao.get_music_detail(1293886117)"
   ]
  },
  {
   "cell_type": "code",
   "execution_count": 146,
   "metadata": {},
   "outputs": [
    {
     "data": {
      "text/plain": [
       "'http://m8.music.126.net/20200206211754/af9f94e92e9d9f6beaed4cd31abcad24/ymusic/030b/060b/035b/4a0c8e3d1c1afd37d18e4165494e9ef2.mp3'"
      ]
     },
     "execution_count": 146,
     "metadata": {},
     "output_type": "execute_result"
    }
   ],
   "source": [
    "# 获取年少有为的音乐URL，并下载音乐\n",
    "ronghao.get_music_url(1293886117)"
   ]
  },
  {
   "cell_type": "code",
   "execution_count": null,
   "metadata": {},
   "outputs": [],
   "source": []
  }
 ],
 "metadata": {
  "kernelspec": {
   "display_name": "Python 3",
   "language": "python",
   "name": "python3"
  },
  "language_info": {
   "codemirror_mode": {
    "name": "ipython",
    "version": 3
   },
   "file_extension": ".py",
   "mimetype": "text/x-python",
   "name": "python",
   "nbconvert_exporter": "python",
   "pygments_lexer": "ipython3",
   "version": "3.7.3"
  }
 },
 "nbformat": 4,
 "nbformat_minor": 4
}
